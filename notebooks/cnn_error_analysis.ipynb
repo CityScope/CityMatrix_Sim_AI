{
 "cells": [
  {
   "cell_type": "markdown",
   "metadata": {
    "toc": "true"
   },
   "source": [
    "# Table of Contents\n",
    " <p><div class=\"lev1 toc-item\"><a href=\"#Introduction\" data-toc-modified-id=\"Introduction-1\"><span class=\"toc-item-num\">1&nbsp;&nbsp;</span>Introduction</a></div><div class=\"lev1 toc-item\"><a href=\"#Setup\" data-toc-modified-id=\"Setup-2\"><span class=\"toc-item-num\">2&nbsp;&nbsp;</span>Setup</a></div><div class=\"lev2 toc-item\"><a href=\"#Imports\" data-toc-modified-id=\"Imports-21\"><span class=\"toc-item-num\">2.1&nbsp;&nbsp;</span>Imports</a></div><div class=\"lev2 toc-item\"><a href=\"#Configs\" data-toc-modified-id=\"Configs-22\"><span class=\"toc-item-num\">2.2&nbsp;&nbsp;</span>Configs</a></div><div class=\"lev1 toc-item\"><a href=\"#TRAFFIC\" data-toc-modified-id=\"TRAFFIC-3\"><span class=\"toc-item-num\">3&nbsp;&nbsp;</span>TRAFFIC</a></div><div class=\"lev2 toc-item\"><a href=\"#Load\" data-toc-modified-id=\"Load-31\"><span class=\"toc-item-num\">3.1&nbsp;&nbsp;</span>Load</a></div><div class=\"lev2 toc-item\"><a href=\"#Validate\" data-toc-modified-id=\"Validate-32\"><span class=\"toc-item-num\">3.2&nbsp;&nbsp;</span>Validate</a></div><div class=\"lev2 toc-item\"><a href=\"#Analyze\" data-toc-modified-id=\"Analyze-33\"><span class=\"toc-item-num\">3.3&nbsp;&nbsp;</span>Analyze</a></div><div class=\"lev2 toc-item\"><a href=\"#Report\" data-toc-modified-id=\"Report-34\"><span class=\"toc-item-num\">3.4&nbsp;&nbsp;</span>Report</a></div><div class=\"lev1 toc-item\"><a href=\"#SOLAR\" data-toc-modified-id=\"SOLAR-4\"><span class=\"toc-item-num\">4&nbsp;&nbsp;</span>SOLAR</a></div><div class=\"lev2 toc-item\"><a href=\"#Load\" data-toc-modified-id=\"Load-41\"><span class=\"toc-item-num\">4.1&nbsp;&nbsp;</span>Load</a></div><div class=\"lev2 toc-item\"><a href=\"#Validate\" data-toc-modified-id=\"Validate-42\"><span class=\"toc-item-num\">4.2&nbsp;&nbsp;</span>Validate</a></div><div class=\"lev2 toc-item\"><a href=\"#Analyze\" data-toc-modified-id=\"Analyze-43\"><span class=\"toc-item-num\">4.3&nbsp;&nbsp;</span>Analyze</a></div><div class=\"lev2 toc-item\"><a href=\"#Report\" data-toc-modified-id=\"Report-44\"><span class=\"toc-item-num\">4.4&nbsp;&nbsp;</span>Report</a></div>"
   ]
  },
  {
   "cell_type": "markdown",
   "metadata": {
    "collapsed": true
   },
   "source": [
    "# Introduction"
   ]
  },
  {
   "cell_type": "markdown",
   "metadata": {},
   "source": [
    "The purpose of this notebook is to run a new error analysis on our CNN model. As of 8/1/2017, we are working with the most successful CNN model located [here](https://www.dropbox.com/home/CityMatrixSim_Data/01_machine%20learning/machine_learning_traffic_CNN_results_170723/0.2_drop_less_epochs).\n",
    "\n",
    "This model achieved an R^2 score of 0.86 on the 3,000-city test set. But, our concern is that this metric is not exactly what we want. Instead, I would like to calculate a **percent error** on the road cells for traffic values.\n",
    "\n",
    "At the end of the day, we want a good heatmap. So, our error metric should reflect that."
   ]
  },
  {
   "cell_type": "markdown",
   "metadata": {},
   "source": [
    "# Setup"
   ]
  },
  {
   "cell_type": "markdown",
   "metadata": {},
   "source": [
    "## Imports\n",
    "\n",
    "First, let me import all of the necessary modules for this notebook."
   ]
  },
  {
   "cell_type": "code",
   "execution_count": 2,
   "metadata": {
    "collapsed": false
   },
   "outputs": [],
   "source": [
    "import importlib\n",
    "import os\n",
    "import pickle\n",
    "import sys\n",
    "from glob import glob\n",
    "\n",
    "import dotmap\n",
    "import matplotlib.pyplot as plt\n",
    "import numpy as np\n",
    "from tqdm import tqdm\n",
    "\n",
    "sys.path.append('../global/')\n",
    "import cityiograph"
   ]
  },
  {
   "cell_type": "code",
   "execution_count": 3,
   "metadata": {
    "collapsed": false
   },
   "outputs": [
    {
     "data": {
      "text/plain": [
       "<module 'cityiograph' from '../global/cityiograph.py'>"
      ]
     },
     "execution_count": 3,
     "metadata": {},
     "output_type": "execute_result"
    }
   ],
   "source": [
    "importlib.reload(cityiograph)"
   ]
  },
  {
   "cell_type": "markdown",
   "metadata": {},
   "source": [
    "## Configs\n",
    "\n",
    "Next, let me define any key global config vars that we will need."
   ]
  },
  {
   "cell_type": "markdown",
   "metadata": {},
   "source": [
    "# TRAFFIC\n",
    "\n",
    "I am going to look at traffic first."
   ]
  },
  {
   "cell_type": "code",
   "execution_count": 4,
   "metadata": {
    "collapsed": true
   },
   "outputs": [],
   "source": [
    "PICKLE_FNAME = '../../../data/new_traffic_cities/data.pkl'\n",
    "PREDICTED_CITY_PATH = '../MachineLearning/runs/0.2_drop_less_epochs/predicted_cities/'"
   ]
  },
  {
   "cell_type": "markdown",
   "metadata": {},
   "source": [
    "## Load"
   ]
  },
  {
   "cell_type": "markdown",
   "metadata": {},
   "source": [
    "Since we have a nice pickle file with all of our data, loading it is easy!"
   ]
  },
  {
   "cell_type": "code",
   "execution_count": 5,
   "metadata": {
    "collapsed": true
   },
   "outputs": [],
   "source": [
    "data = pickle.load(open(PICKLE_FNAME, 'rb'))"
   ]
  },
  {
   "cell_type": "markdown",
   "metadata": {},
   "source": [
    "`data` is a dictionary with the following keys:"
   ]
  },
  {
   "cell_type": "code",
   "execution_count": 6,
   "metadata": {
    "collapsed": false
   },
   "outputs": [
    {
     "data": {
      "text/plain": [
       "['train_Y',\n",
       " 'val_filename_list',\n",
       " 'val_Y',\n",
       " 'val_X',\n",
       " 'train_X',\n",
       " 'train_filename_list']"
      ]
     },
     "execution_count": 6,
     "metadata": {},
     "output_type": "execute_result"
    }
   ],
   "source": [
    "list(data.keys())"
   ]
  },
  {
   "cell_type": "markdown",
   "metadata": {},
   "source": [
    "Now, my goal here is to calculate the [mean absolute percentage error](https://en.wikipedia.org/wiki/Mean_absolute_percentage_error) of the traffic predictions on the test dataset, but only on the **road** cells.\n",
    "\n",
    "First, I need to get this data in a format I can use.\n",
    "\n",
    "I like using the [`dotmap`](https://pypi.python.org/pypi/dotmap) module for Python as you can quickly access dictionary elements with dot notation"
   ]
  },
  {
   "cell_type": "code",
   "execution_count": 7,
   "metadata": {
    "collapsed": true
   },
   "outputs": [],
   "source": [
    "data = dotmap.DotMap(data)"
   ]
  },
  {
   "cell_type": "code",
   "execution_count": 8,
   "metadata": {
    "collapsed": false
   },
   "outputs": [
    {
     "data": {
      "text/plain": [
       "(3000, 16, 16, 2)"
      ]
     },
     "execution_count": 8,
     "metadata": {},
     "output_type": "execute_result"
    }
   ],
   "source": [
    "data.val_Y.shape"
   ]
  },
  {
   "cell_type": "markdown",
   "metadata": {},
   "source": [
    "So, `data.val_Y` has all of the actual ground truth traffic values for our validation set. I can therefore use this to compare with the predicted model values. I need to load these into data first, though."
   ]
  },
  {
   "cell_type": "code",
   "execution_count": 9,
   "metadata": {
    "collapsed": false
   },
   "outputs": [
    {
     "name": "stderr",
     "output_type": "stream",
     "text": [
      "100%|██████████| 3000/3000 [00:08<00:00, 363.77it/s]\n"
     ]
    }
   ],
   "source": [
    "y_pred = []\n",
    "for city_path in tqdm(glob(PREDICTED_CITY_PATH + '*')):\n",
    "    # Get the city\n",
    "    with open(city_path, 'r') as f:\n",
    "        city = cityiograph.City(f.read())\n",
    "    # Get the predicted values\n",
    "    traffic_pred = city.get_data_matrix(key='traffic')\n",
    "    y_pred.append(traffic_pred)"
   ]
  },
  {
   "cell_type": "code",
   "execution_count": 10,
   "metadata": {
    "collapsed": true
   },
   "outputs": [],
   "source": [
    "y_pred = np.array(y_pred)"
   ]
  },
  {
   "cell_type": "code",
   "execution_count": 11,
   "metadata": {
    "collapsed": false
   },
   "outputs": [
    {
     "data": {
      "text/plain": [
       "(3000, 16, 16)"
      ]
     },
     "execution_count": 11,
     "metadata": {},
     "output_type": "execute_result"
    }
   ],
   "source": [
    "y_pred.shape"
   ]
  },
  {
   "cell_type": "markdown",
   "metadata": {},
   "source": [
    "## Validate"
   ]
  },
  {
   "cell_type": "markdown",
   "metadata": {},
   "source": [
    "Now, I just want to do some quick visual comparision to make sure that things line up."
   ]
  },
  {
   "cell_type": "code",
   "execution_count": 12,
   "metadata": {
    "collapsed": false
   },
   "outputs": [],
   "source": [
    "y_true = data.val_Y[:, :, :, 0] # Traffic only"
   ]
  },
  {
   "cell_type": "code",
   "execution_count": 13,
   "metadata": {
    "collapsed": false
   },
   "outputs": [],
   "source": [
    "for count, index in enumerate(np.random.randint(low=0, high=3000, size=3)):\n",
    "    plt.subplot(1, 2, 1)\n",
    "    plt.imshow(y_true[0])\n",
    "    plt.axis('off')\n",
    "\n",
    "    plt.subplot(1, 2, 2)\n",
    "    plt.imshow(y_pred[0])\n",
    "    plt.axis('off')\n",
    "    plt.show()"
   ]
  },
  {
   "cell_type": "markdown",
   "metadata": {},
   "source": [
    "Looks good to me! Let me do some more checks just to make sure everything is lined up."
   ]
  },
  {
   "cell_type": "code",
   "execution_count": 14,
   "metadata": {
    "collapsed": false
   },
   "outputs": [
    {
     "name": "stdout",
     "output_type": "stream",
     "text": [
      "3000\n"
     ]
    }
   ],
   "source": [
    "print(len(data.val_filename_list))"
   ]
  },
  {
   "cell_type": "code",
   "execution_count": 15,
   "metadata": {
    "collapsed": false
   },
   "outputs": [
    {
     "name": "stdout",
     "output_type": "stream",
     "text": [
      "3000\n"
     ]
    }
   ],
   "source": [
    "print(len(glob(PREDICTED_CITY_PATH + '*')))"
   ]
  },
  {
   "cell_type": "code",
   "execution_count": 16,
   "metadata": {
    "collapsed": false
   },
   "outputs": [
    {
     "name": "stdout",
     "output_type": "stream",
     "text": [
      "../../../data/new_traffic_cities/004/SolarSimCity_7000_output.json\n"
     ]
    }
   ],
   "source": [
    "print(data.val_filename_list[0])"
   ]
  },
  {
   "cell_type": "code",
   "execution_count": 17,
   "metadata": {
    "collapsed": true
   },
   "outputs": [],
   "source": [
    "pred_files = glob(PREDICTED_CITY_PATH + '*')"
   ]
  },
  {
   "cell_type": "code",
   "execution_count": 18,
   "metadata": {
    "collapsed": false
   },
   "outputs": [
    {
     "name": "stdout",
     "output_type": "stream",
     "text": [
      "../MachineLearning/runs/0.2_drop_less_epochs/predicted_cities/SolarSimCity_7000_output_predicted.json\n"
     ]
    }
   ],
   "source": [
    "print(pred_files[0])"
   ]
  },
  {
   "cell_type": "code",
   "execution_count": 19,
   "metadata": {
    "collapsed": false
   },
   "outputs": [
    {
     "data": {
      "text/plain": [
       "'SolarSimCity_7000_output.json'"
      ]
     },
     "execution_count": 19,
     "metadata": {},
     "output_type": "execute_result"
    }
   ],
   "source": [
    "true_base_names = [os.path.basename(path) for path in data.val_filename_list]\n",
    "true_base_names[0]"
   ]
  },
  {
   "cell_type": "code",
   "execution_count": 20,
   "metadata": {
    "collapsed": false
   },
   "outputs": [],
   "source": [
    "pred_base_names = [os.path.basename(path) for path in pred_files]"
   ]
  },
  {
   "cell_type": "code",
   "execution_count": 21,
   "metadata": {
    "collapsed": false
   },
   "outputs": [
    {
     "data": {
      "text/plain": [
       "'SolarSimCity_7000_output_predicted.json'"
      ]
     },
     "execution_count": 21,
     "metadata": {},
     "output_type": "execute_result"
    }
   ],
   "source": [
    "pred_base_names[0]"
   ]
  },
  {
   "cell_type": "code",
   "execution_count": 22,
   "metadata": {
    "collapsed": false
   },
   "outputs": [],
   "source": [
    "assert all(pred_base_names[i].startswith(true_base_names[i].replace('.json', '')) for i in range(3000))"
   ]
  },
  {
   "cell_type": "markdown",
   "metadata": {},
   "source": [
    "It's a match!"
   ]
  },
  {
   "cell_type": "markdown",
   "metadata": {},
   "source": [
    "## Analyze"
   ]
  },
  {
   "cell_type": "markdown",
   "metadata": {},
   "source": [
    "Now, it's time to calculate this error. First, let me define a function that can do this. (Taken from [StackOverflow](https://stats.stackexchange.com/questions/58391/mean-absolute-percentage-error-mape-in-scikit-learn)."
   ]
  },
  {
   "cell_type": "code",
   "execution_count": 23,
   "metadata": {
    "collapsed": false
   },
   "outputs": [],
   "source": [
    "def mean_absolute_percentage_error(y_true, y_pred):\n",
    "    return np.mean(np.abs((y_true - y_pred) / (y_true + 1e-9))) * 100"
   ]
  },
  {
   "cell_type": "markdown",
   "metadata": {},
   "source": [
    "Next, let me get the data in the format that we need it. For each city, I need to know where the roads are..."
   ]
  },
  {
   "cell_type": "code",
   "execution_count": 25,
   "metadata": {
    "collapsed": false
   },
   "outputs": [
    {
     "data": {
      "text/plain": [
       "(3000, 16, 16)"
      ]
     },
     "execution_count": 25,
     "metadata": {},
     "output_type": "execute_result"
    }
   ],
   "source": [
    "road_matrix = data.val_X[:, :, :, 1]\n",
    "road_matrix.shape"
   ]
  },
  {
   "cell_type": "markdown",
   "metadata": {},
   "source": [
    "Things are a bit odd in this array, but I can still recover the key data with some clever logic."
   ]
  },
  {
   "cell_type": "code",
   "execution_count": 26,
   "metadata": {
    "collapsed": false
   },
   "outputs": [],
   "source": [
    "road_indicator_matrix = np.array([city == city.min() for city in road_matrix])"
   ]
  },
  {
   "cell_type": "code",
   "execution_count": 27,
   "metadata": {
    "collapsed": false
   },
   "outputs": [],
   "source": [
    "road_indicator_matrix[road_indicator_matrix == True] = 1"
   ]
  },
  {
   "cell_type": "code",
   "execution_count": 28,
   "metadata": {
    "collapsed": true
   },
   "outputs": [],
   "source": [
    "road_indicator_matrix[road_indicator_matrix == False] = 0"
   ]
  },
  {
   "cell_type": "code",
   "execution_count": 29,
   "metadata": {
    "collapsed": false
   },
   "outputs": [],
   "source": [
    "indicator = np.zeros((3000, 16, 16))"
   ]
  },
  {
   "cell_type": "code",
   "execution_count": 30,
   "metadata": {
    "collapsed": false
   },
   "outputs": [],
   "source": [
    "indicator[road_indicator_matrix] = 1"
   ]
  },
  {
   "cell_type": "markdown",
   "metadata": {},
   "source": [
    "Now, I have a nice binary indicator matrix that I can use. Now, I must multiply this element wise with the current data matrices."
   ]
  },
  {
   "cell_type": "code",
   "execution_count": 31,
   "metadata": {
    "collapsed": true
   },
   "outputs": [],
   "source": [
    "y_true_clipped = indicator * y_true"
   ]
  },
  {
   "cell_type": "code",
   "execution_count": 33,
   "metadata": {
    "collapsed": true
   },
   "outputs": [],
   "source": [
    "y_pred_clipped = indicator * y_pred"
   ]
  },
  {
   "cell_type": "markdown",
   "metadata": {},
   "source": [
    "Now, let me try to get the new error."
   ]
  },
  {
   "cell_type": "code",
   "execution_count": 34,
   "metadata": {
    "collapsed": false
   },
   "outputs": [
    {
     "data": {
      "text/plain": [
       "6.5762062715265222"
      ]
     },
     "execution_count": 34,
     "metadata": {},
     "output_type": "execute_result"
    }
   ],
   "source": [
    "mean_absolute_percentage_error(y_true_clipped[0], y_pred_clipped[0])"
   ]
  },
  {
   "cell_type": "markdown",
   "metadata": {},
   "source": [
    "This is much lower!!! Now, let me do it on the full dataset."
   ]
  },
  {
   "cell_type": "code",
   "execution_count": 35,
   "metadata": {
    "collapsed": false
   },
   "outputs": [
    {
     "name": "stdout",
     "output_type": "stream",
     "text": [
      "21.343228337\n"
     ]
    }
   ],
   "source": [
    "naive_error = mean_absolute_percentage_error(y_true, y_pred)\n",
    "print(naive_error)"
   ]
  },
  {
   "cell_type": "code",
   "execution_count": 36,
   "metadata": {
    "collapsed": false
   },
   "outputs": [
    {
     "name": "stdout",
     "output_type": "stream",
     "text": [
      "7.15614869677\n"
     ]
    }
   ],
   "source": [
    "real_error = mean_absolute_percentage_error(y_true_clipped, y_pred_clipped)\n",
    "print(real_error)"
   ]
  },
  {
   "cell_type": "markdown",
   "metadata": {},
   "source": [
    "## Report"
   ]
  },
  {
   "cell_type": "markdown",
   "metadata": {},
   "source": [
    "This notebook shows that our latest CNN model is able to achieve a mean absolute percentage error or just **7.16%** on the test set. Or, this is an accuracy level of **92.84%**. Great!\n",
    "\n",
    "This lays the work for future analysis studies, model improvements and discoveries."
   ]
  },
  {
   "cell_type": "markdown",
   "metadata": {},
   "source": [
    "# SOLAR\n",
    "\n",
    "Now, I can look at solar."
   ]
  },
  {
   "cell_type": "markdown",
   "metadata": {},
   "source": [
    "## Load"
   ]
  },
  {
   "cell_type": "markdown",
   "metadata": {},
   "source": [
    "## Validate"
   ]
  },
  {
   "cell_type": "markdown",
   "metadata": {},
   "source": [
    "## Analyze"
   ]
  },
  {
   "cell_type": "markdown",
   "metadata": {},
   "source": [
    "## Report"
   ]
  }
 ],
 "metadata": {
  "anaconda-cloud": {},
  "kernelspec": {
   "display_name": "Python [conda env:python3_env]",
   "language": "python",
   "name": "conda-env-python3_env-py"
  },
  "language_info": {
   "codemirror_mode": {
    "name": "ipython",
    "version": 3
   },
   "file_extension": ".py",
   "mimetype": "text/x-python",
   "name": "python",
   "nbconvert_exporter": "python",
   "pygments_lexer": "ipython3",
   "version": "3.5.2"
  },
  "toc": {
   "colors": {
    "hover_highlight": "#DAA520",
    "navigate_num": "#000000",
    "navigate_text": "#333333",
    "running_highlight": "#FF0000",
    "selected_highlight": "#FFD700",
    "sidebar_border": "#EEEEEE",
    "wrapper_background": "#FFFFFF"
   },
   "moveMenuLeft": true,
   "nav_menu": {
    "height": "264px",
    "width": "252px"
   },
   "navigate_menu": true,
   "number_sections": true,
   "sideBar": true,
   "threshold": 4,
   "toc_cell": true,
   "toc_section_display": "block",
   "toc_window_display": true,
   "widenNotebook": false
  }
 },
 "nbformat": 4,
 "nbformat_minor": 1
}
